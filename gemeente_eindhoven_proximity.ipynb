{
 "cells": [
  {
   "cell_type": "code",
   "execution_count": 15,
   "metadata": {},
   "outputs": [],
   "source": [
    "import pandas as pd\n",
    "import matplotlib.pyplot as plt\n",
    "from math import radians, sin, cos, acos"
   ]
  },
  {
   "cell_type": "code",
   "execution_count": 16,
   "metadata": {
    "pycharm": {
     "name": "#%%\n"
    }
   },
   "outputs": [
    {
     "name": "stderr",
     "output_type": "stream",
     "text": [
      "/opt/anaconda3/lib/python3.8/site-packages/IPython/core/interactiveshell.py:3146: DtypeWarning: Columns (3,12,17) have mixed types.Specify dtype option on import or set low_memory=False.\n",
      "  has_raised = await self.run_ast_nodes(code_ast.body, cell_name,\n"
     ]
    }
   ],
   "source": [
    "parkingData = pd.read_csv('Ehvn_parking.csv', sep=';')\n",
    "parkingData.columns = parkingData.columns.str.replace(' ', '') \n",
    "treesData = pd.read_csv('Ehvn_trees.csv', sep=';')"
   ]
  },
  {
   "cell_type": "code",
   "execution_count": 17,
   "metadata": {},
   "outputs": [
    {
     "name": "stdout",
     "output_type": "stream",
     "text": [
      "<class 'pandas.core.frame.DataFrame'>\n",
      "RangeIndex: 11337 entries, 0 to 11336\n",
      "Data columns (total 7 columns):\n",
      " #   Column        Non-Null Count  Dtype \n",
      "---  ------        --------------  ----- \n",
      " 0   Objectid      11337 non-null  int64 \n",
      " 1   Straat        11337 non-null  object\n",
      " 2   Type_en_merk  11337 non-null  object\n",
      " 3   Aantal        11337 non-null  int64 \n",
      " 4   Lon           11337 non-null  object\n",
      " 5   Lat           11337 non-null  object\n",
      " 6   geo_point_2d  11337 non-null  object\n",
      "dtypes: int64(2), object(5)\n",
      "memory usage: 620.1+ KB\n"
     ]
    },
    {
     "data": {
      "text/plain": [
       "('Parking data shape:', (11337, 7))"
      ]
     },
     "execution_count": 17,
     "metadata": {},
     "output_type": "execute_result"
    }
   ],
   "source": [
    "'Parking data information', parkingData.info() \n",
    "'Parking data shape:', parkingData.shape"
   ]
  },
  {
   "cell_type": "code",
   "execution_count": 18,
   "metadata": {},
   "outputs": [
    {
     "data": {
      "text/plain": [
       "('Counts of NaN', 0)"
      ]
     },
     "execution_count": 18,
     "metadata": {},
     "output_type": "execute_result"
    }
   ],
   "source": [
    "'Counts of NaN', parkingData.isna().sum().sum()"
   ]
  },
  {
   "cell_type": "code",
   "execution_count": 19,
   "metadata": {},
   "outputs": [
    {
     "name": "stdout",
     "output_type": "stream",
     "text": [
      "<class 'pandas.core.frame.DataFrame'>\n",
      "RangeIndex: 134778 entries, 0 to 134777\n",
      "Data columns (total 20 columns):\n",
      " #   Column      Non-Null Count   Dtype \n",
      "---  ------      --------------   ----- \n",
      " 0   BOOMSOORT   104025 non-null  object\n",
      " 1   LATIJNSENA  103984 non-null  object\n",
      " 2   STATUS      96079 non-null   object\n",
      " 3   PLANTJAAR   134550 non-null  object\n",
      " 4   HOOGTE      104650 non-null  object\n",
      " 5   DIAMETER    104571 non-null  object\n",
      " 6   EINDBEELD   105528 non-null  object\n",
      " 7   VITALITEIT  102898 non-null  object\n",
      " 8   LEVENSVERW  102898 non-null  object\n",
      " 9   BEHEERDER   131269 non-null  object\n",
      " 10  KORTETERM   106355 non-null  object\n",
      " 11  OPPERVLAK   104479 non-null  object\n",
      " 12  RANDLENGTE  134550 non-null  object\n",
      " 13  LANGETERM   104297 non-null  object\n",
      " 14  VTACONTROL  106314 non-null  object\n",
      " 15  WEGTYPE     104450 non-null  object\n",
      " 16  STANDPLAAT  106261 non-null  object\n",
      " 17  GEOID       134550 non-null  object\n",
      " 18  longitude   134550 non-null  object\n",
      " 19  latitude    134322 non-null  object\n",
      "dtypes: object(20)\n",
      "memory usage: 20.6+ MB\n"
     ]
    },
    {
     "data": {
      "text/plain": [
       "('Tree data shape:', (134778, 20))"
      ]
     },
     "execution_count": 19,
     "metadata": {},
     "output_type": "execute_result"
    }
   ],
   "source": [
    "'Tree data information', treesData.info() \n",
    "'Tree data shape:', treesData.shape"
   ]
  },
  {
   "cell_type": "code",
   "execution_count": 20,
   "metadata": {},
   "outputs": [
    {
     "data": {
      "text/plain": [
       "('Counts of NaN in trees data', 434980)"
      ]
     },
     "execution_count": 20,
     "metadata": {},
     "output_type": "execute_result"
    }
   ],
   "source": [
    "'Counts of NaN in trees data', treesData.isna().sum().sum()"
   ]
  },
  {
   "cell_type": "code",
   "execution_count": 21,
   "metadata": {},
   "outputs": [
    {
     "data": {
      "text/plain": [
       "('New tree data shape:', (91907, 20))"
      ]
     },
     "execution_count": 21,
     "metadata": {},
     "output_type": "execute_result"
    }
   ],
   "source": [
    "newTreesData = treesData.dropna()\n",
    "'New tree data shape:', newTreesData.shape"
   ]
  },
  {
   "cell_type": "code",
   "execution_count": 22,
   "metadata": {},
   "outputs": [
    {
     "data": {
      "text/html": [
       "<div>\n",
       "<style scoped>\n",
       "    .dataframe tbody tr th:only-of-type {\n",
       "        vertical-align: middle;\n",
       "    }\n",
       "\n",
       "    .dataframe tbody tr th {\n",
       "        vertical-align: top;\n",
       "    }\n",
       "\n",
       "    .dataframe thead th {\n",
       "        text-align: right;\n",
       "    }\n",
       "</style>\n",
       "<table border=\"1\" class=\"dataframe\">\n",
       "  <thead>\n",
       "    <tr style=\"text-align: right;\">\n",
       "      <th></th>\n",
       "      <th>Objectid</th>\n",
       "      <th>Straat</th>\n",
       "      <th>Type_en_merk</th>\n",
       "      <th>Aantal</th>\n",
       "      <th>Lon</th>\n",
       "      <th>Lat</th>\n",
       "      <th>geo_point_2d</th>\n",
       "    </tr>\n",
       "  </thead>\n",
       "  <tbody>\n",
       "    <tr>\n",
       "      <th>0</th>\n",
       "      <td>5869</td>\n",
       "      <td>Winkelcentrum Woensel</td>\n",
       "      <td>Parkeerplaats</td>\n",
       "      <td>1</td>\n",
       "      <td>5,473875387</td>\n",
       "      <td>51,46894486</td>\n",
       "      <td>51,4689448625;5,47387538744</td>\n",
       "    </tr>\n",
       "    <tr>\n",
       "      <th>1</th>\n",
       "      <td>5873</td>\n",
       "      <td>Winkelcentrum Woensel</td>\n",
       "      <td>Parkeerplaats</td>\n",
       "      <td>1</td>\n",
       "      <td>5,472963547</td>\n",
       "      <td>51,46882236</td>\n",
       "      <td>51,4688223571;5,47296354721</td>\n",
       "    </tr>\n",
       "    <tr>\n",
       "      <th>2</th>\n",
       "      <td>5874</td>\n",
       "      <td>Winkelcentrum Woensel</td>\n",
       "      <td>Parkeerplaats</td>\n",
       "      <td>1</td>\n",
       "      <td>5,472994225</td>\n",
       "      <td>51,4688196</td>\n",
       "      <td>51,468819602;5,4729942254</td>\n",
       "    </tr>\n",
       "    <tr>\n",
       "      <th>3</th>\n",
       "      <td>5875</td>\n",
       "      <td>Winkelcentrum Woensel</td>\n",
       "      <td>Parkeerplaats</td>\n",
       "      <td>1</td>\n",
       "      <td>5,473027096</td>\n",
       "      <td>51,46881958</td>\n",
       "      <td>51,4688195778;5,47302709629</td>\n",
       "    </tr>\n",
       "    <tr>\n",
       "      <th>4</th>\n",
       "      <td>5876</td>\n",
       "      <td>Winkelcentrum Woensel</td>\n",
       "      <td>Parkeerplaats</td>\n",
       "      <td>1</td>\n",
       "      <td>5,47306434</td>\n",
       "      <td>51,46881818</td>\n",
       "      <td>51,468818175;5,47306433969</td>\n",
       "    </tr>\n",
       "  </tbody>\n",
       "</table>\n",
       "</div>"
      ],
      "text/plain": [
       "   Objectid                 Straat   Type_en_merk  Aantal          Lon  \\\n",
       "0      5869  Winkelcentrum Woensel  Parkeerplaats       1  5,473875387   \n",
       "1      5873  Winkelcentrum Woensel  Parkeerplaats       1  5,472963547   \n",
       "2      5874  Winkelcentrum Woensel  Parkeerplaats       1  5,472994225   \n",
       "3      5875  Winkelcentrum Woensel  Parkeerplaats       1  5,473027096   \n",
       "4      5876  Winkelcentrum Woensel  Parkeerplaats       1   5,47306434   \n",
       "\n",
       "           Lat                 geo_point_2d  \n",
       "0  51,46894486  51,4689448625;5,47387538744  \n",
       "1  51,46882236  51,4688223571;5,47296354721  \n",
       "2   51,4688196    51,468819602;5,4729942254  \n",
       "3  51,46881958  51,4688195778;5,47302709629  \n",
       "4  51,46881818   51,468818175;5,47306433969  "
      ]
     },
     "execution_count": 22,
     "metadata": {},
     "output_type": "execute_result"
    }
   ],
   "source": [
    "parkingData.head()"
   ]
  },
  {
   "cell_type": "code",
   "execution_count": 23,
   "metadata": {},
   "outputs": [
    {
     "data": {
      "text/plain": [
       "array(['Parkeerplaats', 'Parkeerplaats Vergunning',\n",
       "       'Parkeerplaats laden/lossen', 'Parkeerplaats Gehandicapten',\n",
       "       'Parkeerplaats Afgekruist', 'Parkeerplaats Electrisch opladen'],\n",
       "      dtype=object)"
      ]
     },
     "execution_count": 23,
     "metadata": {},
     "output_type": "execute_result"
    }
   ],
   "source": [
    "parkingData['Type_en_merk'].unique()\n",
    "# parkingData['Straat'].unique()"
   ]
  },
  {
   "cell_type": "code",
   "execution_count": 24,
   "metadata": {},
   "outputs": [
    {
     "data": {
      "text/html": [
       "<div>\n",
       "<style scoped>\n",
       "    .dataframe tbody tr th:only-of-type {\n",
       "        vertical-align: middle;\n",
       "    }\n",
       "\n",
       "    .dataframe tbody tr th {\n",
       "        vertical-align: top;\n",
       "    }\n",
       "\n",
       "    .dataframe thead th {\n",
       "        text-align: right;\n",
       "    }\n",
       "</style>\n",
       "<table border=\"1\" class=\"dataframe\">\n",
       "  <thead>\n",
       "    <tr style=\"text-align: right;\">\n",
       "      <th></th>\n",
       "      <th>BOOMSOORT</th>\n",
       "      <th>LATIJNSENA</th>\n",
       "      <th>STATUS</th>\n",
       "      <th>PLANTJAAR</th>\n",
       "      <th>HOOGTE</th>\n",
       "      <th>DIAMETER</th>\n",
       "      <th>EINDBEELD</th>\n",
       "      <th>VITALITEIT</th>\n",
       "      <th>LEVENSVERW</th>\n",
       "      <th>BEHEERDER</th>\n",
       "      <th>KORTETERM</th>\n",
       "      <th>OPPERVLAK</th>\n",
       "      <th>RANDLENGTE</th>\n",
       "      <th>LANGETERM</th>\n",
       "      <th>VTACONTROL</th>\n",
       "      <th>WEGTYPE</th>\n",
       "      <th>STANDPLAAT</th>\n",
       "      <th>GEOID</th>\n",
       "      <th>longitude</th>\n",
       "      <th>latitude</th>\n",
       "    </tr>\n",
       "  </thead>\n",
       "  <tbody>\n",
       "    <tr>\n",
       "      <th>0</th>\n",
       "      <td>Linde</td>\n",
       "      <td>Tilia vulgaris europaea</td>\n",
       "      <td>Basis</td>\n",
       "      <td>1990</td>\n",
       "      <td>dec-15</td>\n",
       "      <td>30 t/m 35</td>\n",
       "      <td>TR 4.20</td>\n",
       "      <td>Basis</td>\n",
       "      <td>&gt;15 jr</td>\n",
       "      <td>REB Stedelijk</td>\n",
       "      <td>OhsB</td>\n",
       "      <td>0</td>\n",
       "      <td>0</td>\n",
       "      <td>Geen actie</td>\n",
       "      <td>C 1 x 3jr</td>\n",
       "      <td>Fietspad</td>\n",
       "      <td>Gazon</td>\n",
       "      <td>123825</td>\n",
       "      <td>5,452419358</td>\n",
       "      <td>51,41620797</td>\n",
       "    </tr>\n",
       "    <tr>\n",
       "      <th>1</th>\n",
       "      <td>Populier</td>\n",
       "      <td>Populus Canadensis Gelrica</td>\n",
       "      <td>Waardevol</td>\n",
       "      <td>1980</td>\n",
       "      <td>&gt; 24</td>\n",
       "      <td>55 t/m 60</td>\n",
       "      <td>TR 4.20</td>\n",
       "      <td>Basis</td>\n",
       "      <td>10-15 jr</td>\n",
       "      <td>REB Stedelijk</td>\n",
       "      <td>OhsB</td>\n",
       "      <td>2.5</td>\n",
       "      <td>0</td>\n",
       "      <td>Geen actie</td>\n",
       "      <td>C 1 x 3jr</td>\n",
       "      <td>EB geen rijstr.ind</td>\n",
       "      <td>Verharding</td>\n",
       "      <td>16467</td>\n",
       "      <td>5,523727583</td>\n",
       "      <td>51,45035415</td>\n",
       "    </tr>\n",
       "    <tr>\n",
       "      <th>5</th>\n",
       "      <td>Wilg</td>\n",
       "      <td>Salix alba</td>\n",
       "      <td>Waardevol</td>\n",
       "      <td>1970</td>\n",
       "      <td>&lt; 6</td>\n",
       "      <td>55 t/m 60</td>\n",
       "      <td>Knot</td>\n",
       "      <td>Basis</td>\n",
       "      <td>&gt;15 jr</td>\n",
       "      <td>REB Stedelijk</td>\n",
       "      <td>Altijd</td>\n",
       "      <td>0</td>\n",
       "      <td>0</td>\n",
       "      <td>Geen actie</td>\n",
       "      <td>C 1 x 3jr</td>\n",
       "      <td>EB geen rijstr.ind</td>\n",
       "      <td>Berm</td>\n",
       "      <td>128651</td>\n",
       "      <td>5,535415488</td>\n",
       "      <td>51,44505309</td>\n",
       "    </tr>\n",
       "    <tr>\n",
       "      <th>6</th>\n",
       "      <td>Es</td>\n",
       "      <td>Fraxinus excelsior Diversifolia</td>\n",
       "      <td>Basis</td>\n",
       "      <td>1995</td>\n",
       "      <td>6-sep</td>\n",
       "      <td>5 t/m 10</td>\n",
       "      <td>TR 4.20</td>\n",
       "      <td>Basis</td>\n",
       "      <td>&gt;15 jr</td>\n",
       "      <td>REB Stedelijk</td>\n",
       "      <td>BgsB</td>\n",
       "      <td>2.5</td>\n",
       "      <td>0</td>\n",
       "      <td>Geen actie</td>\n",
       "      <td>C 1 x 3jr</td>\n",
       "      <td>EB geen rijstr.ind</td>\n",
       "      <td>Verharding</td>\n",
       "      <td>56828</td>\n",
       "      <td>5,461091083</td>\n",
       "      <td>51,48740461</td>\n",
       "    </tr>\n",
       "    <tr>\n",
       "      <th>7</th>\n",
       "      <td>Berk</td>\n",
       "      <td>Betula pendula</td>\n",
       "      <td>Basis</td>\n",
       "      <td>1970</td>\n",
       "      <td>&lt; 6</td>\n",
       "      <td>0 t/m 5</td>\n",
       "      <td>TR 3.00</td>\n",
       "      <td>Geen</td>\n",
       "      <td>Geen</td>\n",
       "      <td>REB Stedelijk</td>\n",
       "      <td>BgsA</td>\n",
       "      <td>0</td>\n",
       "      <td>0</td>\n",
       "      <td>Boomspiegel verwijderen</td>\n",
       "      <td>C 1 x 3jr</td>\n",
       "      <td>Fietspad</td>\n",
       "      <td>Beplanting</td>\n",
       "      <td>55608</td>\n",
       "      <td>5,474501169</td>\n",
       "      <td>51,47883512</td>\n",
       "    </tr>\n",
       "  </tbody>\n",
       "</table>\n",
       "</div>"
      ],
      "text/plain": [
       "  BOOMSOORT                       LATIJNSENA     STATUS PLANTJAAR  HOOGTE  \\\n",
       "0     Linde          Tilia vulgaris europaea      Basis      1990  dec-15   \n",
       "1  Populier       Populus Canadensis Gelrica  Waardevol      1980    > 24   \n",
       "5      Wilg                       Salix alba  Waardevol      1970     < 6   \n",
       "6        Es  Fraxinus excelsior Diversifolia      Basis      1995   6-sep   \n",
       "7      Berk                   Betula pendula      Basis      1970     < 6   \n",
       "\n",
       "    DIAMETER EINDBEELD VITALITEIT LEVENSVERW      BEHEERDER KORTETERM  \\\n",
       "0  30 t/m 35   TR 4.20      Basis     >15 jr  REB Stedelijk      OhsB   \n",
       "1  55 t/m 60   TR 4.20      Basis   10-15 jr  REB Stedelijk      OhsB   \n",
       "5  55 t/m 60      Knot      Basis     >15 jr  REB Stedelijk    Altijd   \n",
       "6   5 t/m 10   TR 4.20      Basis     >15 jr  REB Stedelijk      BgsB   \n",
       "7    0 t/m 5   TR 3.00       Geen       Geen  REB Stedelijk      BgsA   \n",
       "\n",
       "  OPPERVLAK RANDLENGTE                LANGETERM VTACONTROL  \\\n",
       "0         0          0               Geen actie  C 1 x 3jr   \n",
       "1       2.5          0               Geen actie  C 1 x 3jr   \n",
       "5         0          0               Geen actie  C 1 x 3jr   \n",
       "6       2.5          0               Geen actie  C 1 x 3jr   \n",
       "7         0          0  Boomspiegel verwijderen  C 1 x 3jr   \n",
       "\n",
       "              WEGTYPE  STANDPLAAT   GEOID    longitude     latitude  \n",
       "0            Fietspad       Gazon  123825  5,452419358  51,41620797  \n",
       "1  EB geen rijstr.ind  Verharding   16467  5,523727583  51,45035415  \n",
       "5  EB geen rijstr.ind        Berm  128651  5,535415488  51,44505309  \n",
       "6  EB geen rijstr.ind  Verharding   56828  5,461091083  51,48740461  \n",
       "7            Fietspad  Beplanting   55608  5,474501169  51,47883512  "
      ]
     },
     "execution_count": 24,
     "metadata": {},
     "output_type": "execute_result"
    }
   ],
   "source": [
    "newTreesData.head()"
   ]
  },
  {
   "cell_type": "code",
   "execution_count": 1,
   "metadata": {},
   "outputs": [
    {
     "ename": "NameError",
     "evalue": "name 'pd' is not defined",
     "output_type": "error",
     "traceback": [
      "\u001b[0;31m---------------------------------------------------------------------------\u001b[0m",
      "\u001b[0;31mNameError\u001b[0m                                 Traceback (most recent call last)",
      "\u001b[0;32m<ipython-input-1-bdc109536ebf>\u001b[0m in \u001b[0;36m<module>\u001b[0;34m\u001b[0m\n\u001b[0;32m----> 1\u001b[0;31m \u001b[0mcombinedData\u001b[0m \u001b[0;34m=\u001b[0m \u001b[0mpd\u001b[0m\u001b[0;34m.\u001b[0m\u001b[0mconcat\u001b[0m\u001b[0;34m(\u001b[0m\u001b[0mparkingData\u001b[0m\u001b[0;34m,\u001b[0m \u001b[0mnewTreesData\u001b[0m\u001b[0;34m)\u001b[0m\u001b[0;34m\u001b[0m\u001b[0;34m\u001b[0m\u001b[0m\n\u001b[0m\u001b[1;32m      2\u001b[0m \u001b[0mcombinedData\u001b[0m\u001b[0;34m.\u001b[0m\u001b[0mhead\u001b[0m\u001b[0;34m(\u001b[0m\u001b[0;34m)\u001b[0m\u001b[0;34m\u001b[0m\u001b[0;34m\u001b[0m\u001b[0m\n",
      "\u001b[0;31mNameError\u001b[0m: name 'pd' is not defined"
     ]
    }
   ],
   "source": [
    "newParkingData()\n",
    "combinedData = pd.concat(parkingData, newTreesData)\n",
    "combinedData.head()"
   ]
  },
  {
   "cell_type": "code",
   "execution_count": 25,
   "metadata": {},
   "outputs": [
    {
     "name": "stdout",
     "output_type": "stream",
     "text": [
      "6.051588244050644\n"
     ]
    }
   ],
   "source": [
    "# calculate distance based on internet exmple\n",
    "lat1 = radians(51.46894486) # first latitude value in first row of parking dataset\n",
    "lon1 = radians(5.473875387) # first longitude value in first row of parking dataset\n",
    "lat2 = radians(51.41620797) # first latitude value in first row of trees dataset\n",
    "lon2 = radians(5.452419358) # first longitude value in first row of trees dataset\n",
    "\n",
    "\n",
    "\n",
    "distance = 6373.0 * acos(sin(lat1)*sin(lat2) + cos(lat1)*cos(lat2)*cos(lon1 - lon2))\n",
    "print(distance)"
   ]
  },
  {
   "cell_type": "code",
   "execution_count": 26,
   "metadata": {},
   "outputs": [
    {
     "data": {
      "text/html": [
       "<div>\n",
       "<style scoped>\n",
       "    .dataframe tbody tr th:only-of-type {\n",
       "        vertical-align: middle;\n",
       "    }\n",
       "\n",
       "    .dataframe tbody tr th {\n",
       "        vertical-align: top;\n",
       "    }\n",
       "\n",
       "    .dataframe thead th {\n",
       "        text-align: right;\n",
       "    }\n",
       "</style>\n",
       "<table border=\"1\" class=\"dataframe\">\n",
       "  <thead>\n",
       "    <tr style=\"text-align: right;\">\n",
       "      <th></th>\n",
       "      <th>Objectid</th>\n",
       "      <th>Straat</th>\n",
       "      <th>Type_en_merk</th>\n",
       "      <th>Aantal</th>\n",
       "      <th>Lon</th>\n",
       "      <th>Lat</th>\n",
       "      <th>geo_point_2d</th>\n",
       "    </tr>\n",
       "  </thead>\n",
       "  <tbody>\n",
       "  </tbody>\n",
       "</table>\n",
       "</div>"
      ],
      "text/plain": [
       "Empty DataFrame\n",
       "Columns: [Objectid, Straat, Type_en_merk, Aantal, Lon, Lat, geo_point_2d]\n",
       "Index: []"
      ]
     },
     "execution_count": 26,
     "metadata": {},
     "output_type": "execute_result"
    }
   ],
   "source": [
    "new_data = parkingData[parkingData['Lon'] == '5.452419358']\n",
    "new_data.head()"
   ]
  },
  {
   "cell_type": "code",
   "execution_count": 27,
   "metadata": {},
   "outputs": [],
   "source": [
    "# street = parkingData[]\n",
    "# fig, ax = plt.subplots()\n",
    "# ax = plt.scatter(parkingData['Straat'], parkingData['Type_en_merk'], color='red')\n",
    "# plt.xticks(rotation=45)\n",
    "# plt.show()"
   ]
  },
  {
   "cell_type": "code",
   "execution_count": 28,
   "metadata": {},
   "outputs": [],
   "source": [
    "# result = pd.concat(new_data, newTreesData)"
   ]
  },
  {
   "cell_type": "code",
   "execution_count": null,
   "metadata": {},
   "outputs": [],
   "source": []
  }
 ],
 "metadata": {
  "kernelspec": {
   "display_name": "Python 3",
   "language": "python",
   "name": "python3"
  },
  "language_info": {
   "codemirror_mode": {
    "name": "ipython",
    "version": 3
   },
   "file_extension": ".py",
   "mimetype": "text/x-python",
   "name": "python",
   "nbconvert_exporter": "python",
   "pygments_lexer": "ipython3",
   "version": "3.8.5"
  }
 },
 "nbformat": 4,
 "nbformat_minor": 1
}
