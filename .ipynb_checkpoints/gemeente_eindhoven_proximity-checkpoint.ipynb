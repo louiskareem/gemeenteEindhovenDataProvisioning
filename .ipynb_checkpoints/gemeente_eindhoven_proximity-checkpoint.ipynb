{
 "cells": [
  {
   "cell_type": "code",
   "execution_count": 214,
   "metadata": {},
   "outputs": [],
   "source": [
    "import pandas as pd\n",
    "import matplotlib.pyplot as plt\n",
    "from math import radians, sin, cos, acos, atan2, sqrt\n",
    "import math\n",
    "import numpy as np"
   ]
  },
  {
   "cell_type": "code",
   "execution_count": 215,
   "metadata": {
    "pycharm": {
     "name": "#%%\n"
    }
   },
   "outputs": [],
   "source": [
    "parkingData = pd.read_csv('Ehvn_parking.csv', sep=';', keep_default_na=False, na_values=[\"\"])\n",
    "parkingData.columns = parkingData.columns.str.replace(' ', '') \n",
    "parkingComplaintsData = pd.read_csv('Ehvn_parkeer_overlast.csv', sep=';', keep_default_na=False, na_values=[\"\"])"
   ]
  },
  {
   "cell_type": "code",
   "execution_count": 216,
   "metadata": {},
   "outputs": [
    {
     "data": {
      "text/plain": [
       "Index(['Nummer', 'Gebied', 'Onderwerp', 'Aangemaakt', 'Gewijzigd', 'Buurt',\n",
       "       'geo_shape', 'Locatie ter hoogte van', 'wijkcode', 'stadsdeelcode',\n",
       "       'Wijknaam ', 'Stadsdeelnaam', 'geo_point_2d'],\n",
       "      dtype='object')"
      ]
     },
     "execution_count": 216,
     "metadata": {},
     "output_type": "execute_result"
    }
   ],
   "source": [
    "parkingComplaintsData.columns"
   ]
  },
  {
   "cell_type": "code",
   "execution_count": 217,
   "metadata": {},
   "outputs": [
    {
     "data": {
      "text/plain": [
       "Index(['Objectid', 'Straat', 'Type_en_merk', 'Aantal', 'Lon', 'Lat',\n",
       "       'geo_point_2d'],\n",
       "      dtype='object')"
      ]
     },
     "execution_count": 217,
     "metadata": {},
     "output_type": "execute_result"
    }
   ],
   "source": [
    "parkingData.columns"
   ]
  },
  {
   "cell_type": "code",
   "execution_count": 218,
   "metadata": {},
   "outputs": [
    {
     "name": "stdout",
     "output_type": "stream",
     "text": [
      "<class 'pandas.core.frame.DataFrame'>\n",
      "RangeIndex: 11337 entries, 0 to 11336\n",
      "Data columns (total 7 columns):\n",
      " #   Column        Non-Null Count  Dtype \n",
      "---  ------        --------------  ----- \n",
      " 0   Objectid      11337 non-null  int64 \n",
      " 1   Straat        11337 non-null  object\n",
      " 2   Type_en_merk  11337 non-null  object\n",
      " 3   Aantal        11337 non-null  int64 \n",
      " 4   Lon           11337 non-null  object\n",
      " 5   Lat           11337 non-null  object\n",
      " 6   geo_point_2d  11337 non-null  object\n",
      "dtypes: int64(2), object(5)\n",
      "memory usage: 620.1+ KB\n"
     ]
    },
    {
     "data": {
      "text/plain": [
       "('Parking data shape:', (11337, 7))"
      ]
     },
     "execution_count": 218,
     "metadata": {},
     "output_type": "execute_result"
    }
   ],
   "source": [
    "'Parking data information', parkingData.info() \n",
    "'Parking data shape:', parkingData.shape"
   ]
  },
  {
   "cell_type": "code",
   "execution_count": 219,
   "metadata": {},
   "outputs": [
    {
     "data": {
      "text/plain": [
       "('Counts of NaN', 0)"
      ]
     },
     "execution_count": 219,
     "metadata": {},
     "output_type": "execute_result"
    }
   ],
   "source": [
    "'Counts of NaN', parkingData.isna().sum().sum()"
   ]
  },
  {
   "cell_type": "code",
   "execution_count": 220,
   "metadata": {},
   "outputs": [
    {
     "name": "stdout",
     "output_type": "stream",
     "text": [
      "<class 'pandas.core.frame.DataFrame'>\n",
      "RangeIndex: 14004 entries, 0 to 14003\n",
      "Data columns (total 13 columns):\n",
      " #   Column                  Non-Null Count  Dtype  \n",
      "---  ------                  --------------  -----  \n",
      " 0   Nummer                  14004 non-null  int64  \n",
      " 1   Gebied                  14004 non-null  object \n",
      " 2   Onderwerp               14004 non-null  object \n",
      " 3   Aangemaakt              14004 non-null  object \n",
      " 4   Gewijzigd               14004 non-null  object \n",
      " 5   Buurt                   13993 non-null  object \n",
      " 6   geo_shape               14004 non-null  object \n",
      " 7   Locatie ter hoogte van  14004 non-null  object \n",
      " 8   wijkcode                13993 non-null  float64\n",
      " 9   stadsdeelcode           13993 non-null  float64\n",
      " 10  Wijknaam                13927 non-null  object \n",
      " 11  Stadsdeelnaam           13993 non-null  object \n",
      " 12  geo_point_2d            14004 non-null  object \n",
      "dtypes: float64(2), int64(1), object(10)\n",
      "memory usage: 1.4+ MB\n"
     ]
    },
    {
     "data": {
      "text/plain": [
       "('Tree data shape:', (14004, 13))"
      ]
     },
     "execution_count": 220,
     "metadata": {},
     "output_type": "execute_result"
    }
   ],
   "source": [
    "'Tree data information', parkingComplaintsData.info() \n",
    "'Tree data shape:', parkingComplaintsData.shape"
   ]
  },
  {
   "cell_type": "code",
   "execution_count": 221,
   "metadata": {},
   "outputs": [
    {
     "data": {
      "text/plain": [
       "('Counts of NaN in trees data', 121)"
      ]
     },
     "execution_count": 221,
     "metadata": {},
     "output_type": "execute_result"
    }
   ],
   "source": [
    "'Counts of NaN in trees data', parkingComplaintsData.isna().sum().sum()"
   ]
  },
  {
   "cell_type": "code",
   "execution_count": 232,
   "metadata": {},
   "outputs": [
    {
     "data": {
      "text/plain": [
       "('New tree data shape:', (13927, 13))"
      ]
     },
     "execution_count": 232,
     "metadata": {},
     "output_type": "execute_result"
    }
   ],
   "source": [
    "newParkingComplaintsData = parkingComplaintsData.dropna()\n",
    "'New tree data shape:', newParkingComplaintsData.shape"
   ]
  },
  {
   "cell_type": "code",
   "execution_count": 233,
   "metadata": {},
   "outputs": [
    {
     "data": {
      "text/html": [
       "<div>\n",
       "<style scoped>\n",
       "    .dataframe tbody tr th:only-of-type {\n",
       "        vertical-align: middle;\n",
       "    }\n",
       "\n",
       "    .dataframe tbody tr th {\n",
       "        vertical-align: top;\n",
       "    }\n",
       "\n",
       "    .dataframe thead th {\n",
       "        text-align: right;\n",
       "    }\n",
       "</style>\n",
       "<table border=\"1\" class=\"dataframe\">\n",
       "  <thead>\n",
       "    <tr style=\"text-align: right;\">\n",
       "      <th></th>\n",
       "      <th>Objectid</th>\n",
       "      <th>Straat</th>\n",
       "      <th>Type_en_merk</th>\n",
       "      <th>Aantal</th>\n",
       "      <th>Lon</th>\n",
       "      <th>Lat</th>\n",
       "      <th>geo_point_2d</th>\n",
       "    </tr>\n",
       "  </thead>\n",
       "  <tbody>\n",
       "    <tr>\n",
       "      <th>0</th>\n",
       "      <td>5869</td>\n",
       "      <td>Winkelcentrum Woensel</td>\n",
       "      <td>Parkeerplaats</td>\n",
       "      <td>1</td>\n",
       "      <td>5,473875387</td>\n",
       "      <td>51,46894486</td>\n",
       "      <td>51,4689448625;5,47387538744</td>\n",
       "    </tr>\n",
       "    <tr>\n",
       "      <th>1</th>\n",
       "      <td>5873</td>\n",
       "      <td>Winkelcentrum Woensel</td>\n",
       "      <td>Parkeerplaats</td>\n",
       "      <td>1</td>\n",
       "      <td>5,472963547</td>\n",
       "      <td>51,46882236</td>\n",
       "      <td>51,4688223571;5,47296354721</td>\n",
       "    </tr>\n",
       "    <tr>\n",
       "      <th>2</th>\n",
       "      <td>5874</td>\n",
       "      <td>Winkelcentrum Woensel</td>\n",
       "      <td>Parkeerplaats</td>\n",
       "      <td>1</td>\n",
       "      <td>5,472994225</td>\n",
       "      <td>51,4688196</td>\n",
       "      <td>51,468819602;5,4729942254</td>\n",
       "    </tr>\n",
       "    <tr>\n",
       "      <th>3</th>\n",
       "      <td>5875</td>\n",
       "      <td>Winkelcentrum Woensel</td>\n",
       "      <td>Parkeerplaats</td>\n",
       "      <td>1</td>\n",
       "      <td>5,473027096</td>\n",
       "      <td>51,46881958</td>\n",
       "      <td>51,4688195778;5,47302709629</td>\n",
       "    </tr>\n",
       "    <tr>\n",
       "      <th>4</th>\n",
       "      <td>5876</td>\n",
       "      <td>Winkelcentrum Woensel</td>\n",
       "      <td>Parkeerplaats</td>\n",
       "      <td>1</td>\n",
       "      <td>5,47306434</td>\n",
       "      <td>51,46881818</td>\n",
       "      <td>51,468818175;5,47306433969</td>\n",
       "    </tr>\n",
       "  </tbody>\n",
       "</table>\n",
       "</div>"
      ],
      "text/plain": [
       "   Objectid                 Straat   Type_en_merk  Aantal          Lon  \\\n",
       "0      5869  Winkelcentrum Woensel  Parkeerplaats       1  5,473875387   \n",
       "1      5873  Winkelcentrum Woensel  Parkeerplaats       1  5,472963547   \n",
       "2      5874  Winkelcentrum Woensel  Parkeerplaats       1  5,472994225   \n",
       "3      5875  Winkelcentrum Woensel  Parkeerplaats       1  5,473027096   \n",
       "4      5876  Winkelcentrum Woensel  Parkeerplaats       1   5,47306434   \n",
       "\n",
       "           Lat                 geo_point_2d  \n",
       "0  51,46894486  51,4689448625;5,47387538744  \n",
       "1  51,46882236  51,4688223571;5,47296354721  \n",
       "2   51,4688196    51,468819602;5,4729942254  \n",
       "3  51,46881958  51,4688195778;5,47302709629  \n",
       "4  51,46881818   51,468818175;5,47306433969  "
      ]
     },
     "execution_count": 233,
     "metadata": {},
     "output_type": "execute_result"
    }
   ],
   "source": [
    "parkingData.head()"
   ]
  },
  {
   "cell_type": "code",
   "execution_count": 224,
   "metadata": {},
   "outputs": [],
   "source": [
    "# parkingData['Type_en_merk'].unique()\n",
    "# parkingData['Straat'].unique()"
   ]
  },
  {
   "cell_type": "code",
   "execution_count": 234,
   "metadata": {},
   "outputs": [
    {
     "data": {
      "text/html": [
       "<div>\n",
       "<style scoped>\n",
       "    .dataframe tbody tr th:only-of-type {\n",
       "        vertical-align: middle;\n",
       "    }\n",
       "\n",
       "    .dataframe tbody tr th {\n",
       "        vertical-align: top;\n",
       "    }\n",
       "\n",
       "    .dataframe thead th {\n",
       "        text-align: right;\n",
       "    }\n",
       "</style>\n",
       "<table border=\"1\" class=\"dataframe\">\n",
       "  <thead>\n",
       "    <tr style=\"text-align: right;\">\n",
       "      <th></th>\n",
       "      <th>Nummer</th>\n",
       "      <th>Gebied</th>\n",
       "      <th>Onderwerp</th>\n",
       "      <th>Aangemaakt</th>\n",
       "      <th>Gewijzigd</th>\n",
       "      <th>Buurt</th>\n",
       "      <th>geo_shape</th>\n",
       "      <th>Locatie ter hoogte van</th>\n",
       "      <th>wijkcode</th>\n",
       "      <th>stadsdeelcode</th>\n",
       "      <th>Wijknaam</th>\n",
       "      <th>Stadsdeelnaam</th>\n",
       "      <th>geo_point_2d</th>\n",
       "    </tr>\n",
       "  </thead>\n",
       "  <tbody>\n",
       "    <tr>\n",
       "      <th>0</th>\n",
       "      <td>990381057</td>\n",
       "      <td>2-Stratum</td>\n",
       "      <td>7.1 Parkeeroverlast</td>\n",
       "      <td>2016-05-24T16:48:00+00:00</td>\n",
       "      <td>2016-06-03T15:50:00+00:00</td>\n",
       "      <td>BU07721232</td>\n",
       "      <td>{\"type\": \"Point\", \"coordinates\": [5.5076848921...</td>\n",
       "      <td>St Petrus Canisiuslaan 112</td>\n",
       "      <td>23.0</td>\n",
       "      <td>2.0</td>\n",
       "      <td>Wijk Putten</td>\n",
       "      <td>Stadsdeel Stratum</td>\n",
       "      <td>51.4259878853,5.50768489216</td>\n",
       "    </tr>\n",
       "    <tr>\n",
       "      <th>1</th>\n",
       "      <td>990469096</td>\n",
       "      <td>2-Stratum</td>\n",
       "      <td>7.1 Parkeeroverlast</td>\n",
       "      <td>2017-12-21T17:01:00+00:00</td>\n",
       "      <td>2018-01-27T20:18:00+00:00</td>\n",
       "      <td>BU07721211</td>\n",
       "      <td>{\"type\": \"Point\", \"coordinates\": [5.4946051436...</td>\n",
       "      <td>Gabriel Metsulaan 16</td>\n",
       "      <td>21.0</td>\n",
       "      <td>2.0</td>\n",
       "      <td>Wijk Oud-Stratum</td>\n",
       "      <td>Stadsdeel Stratum</td>\n",
       "      <td>51.4334681147,5.49460514363</td>\n",
       "    </tr>\n",
       "    <tr>\n",
       "      <th>2</th>\n",
       "      <td>990379860</td>\n",
       "      <td>4-Woensel-Zuid</td>\n",
       "      <td>7.1 Parkeeroverlast</td>\n",
       "      <td>2016-05-16T14:23:00+00:00</td>\n",
       "      <td>2016-05-20T14:30:00+00:00</td>\n",
       "      <td>BU07721434</td>\n",
       "      <td>{\"type\": \"Point\", \"coordinates\": [5.4887024329...</td>\n",
       "      <td>Cassandraplein 87</td>\n",
       "      <td>43.0</td>\n",
       "      <td>4.0</td>\n",
       "      <td>Wijk Begijnenbroek</td>\n",
       "      <td>Stadsdeel Woensel-Zuid</td>\n",
       "      <td>51.4601807531,5.48870243294</td>\n",
       "    </tr>\n",
       "    <tr>\n",
       "      <th>3</th>\n",
       "      <td>990398314</td>\n",
       "      <td>6-Strijp</td>\n",
       "      <td>7.1 Parkeeroverlast</td>\n",
       "      <td>2016-09-03T20:39:00+00:00</td>\n",
       "      <td>2016-09-09T18:13:00+00:00</td>\n",
       "      <td>BU07721113</td>\n",
       "      <td>{\"type\": \"Point\", \"coordinates\": [5.4720707954...</td>\n",
       "      <td>Bernhardplaats 1</td>\n",
       "      <td>11.0</td>\n",
       "      <td>1.0</td>\n",
       "      <td>Wijk Centrum</td>\n",
       "      <td>Stadsdeel Centrum</td>\n",
       "      <td>51.4394427819,5.47207079543</td>\n",
       "    </tr>\n",
       "    <tr>\n",
       "      <th>4</th>\n",
       "      <td>990397578</td>\n",
       "      <td>4-Woensel-Zuid</td>\n",
       "      <td>7.1 Parkeeroverlast</td>\n",
       "      <td>2016-08-31T07:45:00+00:00</td>\n",
       "      <td>2016-08-31T15:27:00+00:00</td>\n",
       "      <td>BU07721113</td>\n",
       "      <td>{\"type\": \"Point\", \"coordinates\": [5.4697212730...</td>\n",
       "      <td>Rachelsmolen/Venbergsemolen</td>\n",
       "      <td>11.0</td>\n",
       "      <td>1.0</td>\n",
       "      <td>Wijk Centrum</td>\n",
       "      <td>Stadsdeel Centrum</td>\n",
       "      <td>51.441641681,5.46972127308</td>\n",
       "    </tr>\n",
       "  </tbody>\n",
       "</table>\n",
       "</div>"
      ],
      "text/plain": [
       "      Nummer          Gebied            Onderwerp                 Aangemaakt  \\\n",
       "0  990381057       2-Stratum  7.1 Parkeeroverlast  2016-05-24T16:48:00+00:00   \n",
       "1  990469096       2-Stratum  7.1 Parkeeroverlast  2017-12-21T17:01:00+00:00   \n",
       "2  990379860  4-Woensel-Zuid  7.1 Parkeeroverlast  2016-05-16T14:23:00+00:00   \n",
       "3  990398314        6-Strijp  7.1 Parkeeroverlast  2016-09-03T20:39:00+00:00   \n",
       "4  990397578  4-Woensel-Zuid  7.1 Parkeeroverlast  2016-08-31T07:45:00+00:00   \n",
       "\n",
       "                   Gewijzigd       Buurt  \\\n",
       "0  2016-06-03T15:50:00+00:00  BU07721232   \n",
       "1  2018-01-27T20:18:00+00:00  BU07721211   \n",
       "2  2016-05-20T14:30:00+00:00  BU07721434   \n",
       "3  2016-09-09T18:13:00+00:00  BU07721113   \n",
       "4  2016-08-31T15:27:00+00:00  BU07721113   \n",
       "\n",
       "                                           geo_shape  \\\n",
       "0  {\"type\": \"Point\", \"coordinates\": [5.5076848921...   \n",
       "1  {\"type\": \"Point\", \"coordinates\": [5.4946051436...   \n",
       "2  {\"type\": \"Point\", \"coordinates\": [5.4887024329...   \n",
       "3  {\"type\": \"Point\", \"coordinates\": [5.4720707954...   \n",
       "4  {\"type\": \"Point\", \"coordinates\": [5.4697212730...   \n",
       "\n",
       "        Locatie ter hoogte van  wijkcode  stadsdeelcode           Wijknaam   \\\n",
       "0   St Petrus Canisiuslaan 112      23.0            2.0         Wijk Putten   \n",
       "1         Gabriel Metsulaan 16      21.0            2.0    Wijk Oud-Stratum   \n",
       "2            Cassandraplein 87      43.0            4.0  Wijk Begijnenbroek   \n",
       "3             Bernhardplaats 1      11.0            1.0        Wijk Centrum   \n",
       "4  Rachelsmolen/Venbergsemolen      11.0            1.0        Wijk Centrum   \n",
       "\n",
       "            Stadsdeelnaam                 geo_point_2d  \n",
       "0       Stadsdeel Stratum  51.4259878853,5.50768489216  \n",
       "1       Stadsdeel Stratum  51.4334681147,5.49460514363  \n",
       "2  Stadsdeel Woensel-Zuid  51.4601807531,5.48870243294  \n",
       "3       Stadsdeel Centrum  51.4394427819,5.47207079543  \n",
       "4       Stadsdeel Centrum   51.441641681,5.46972127308  "
      ]
     },
     "execution_count": 234,
     "metadata": {},
     "output_type": "execute_result"
    }
   ],
   "source": [
    "newParkingComplaintsData.head()"
   ]
  },
  {
   "cell_type": "code",
   "execution_count": 226,
   "metadata": {},
   "outputs": [],
   "source": [
    "# newTreesData.PLANTJAAR.unique()\n",
    "# newTreesData.PLANTJAAR = pd.to_numeric(newTreesData.PLANTJAAR)\n",
    "# newTreesData['NEWPLANTJAAR'] = newTreesData.PLANTJAAR >= 2000\n",
    "# newTreesData.head()\n"
   ]
  },
  {
   "cell_type": "code",
   "execution_count": 227,
   "metadata": {},
   "outputs": [],
   "source": [
    "# newParkingData()\n",
    "# combinedData = pd.concat(parkingData, newTreesData, axis=1)\n",
    "# combinedData.head()"
   ]
  },
  {
   "cell_type": "code",
   "execution_count": 228,
   "metadata": {},
   "outputs": [],
   "source": [
    "# # calculate distance based on internet exmple\n",
    "# lat1 = radians(51.46894486) # first latitude value in first row of parking dataset\n",
    "# lon1 = radians(5.473875387) # first longitude value in first row of parking dataset\n",
    "# lat2 = radians(51.41620797) # first latitude value in first row of trees dataset\n",
    "# lon2 = radians(5.452419358) # first longitude value in first row of trees dataset\n",
    "\n",
    "\n",
    "\n",
    "# distance = 6373.0 * acos(sin(lat1)*sin(lat2) + cos(lat1)*cos(lat2)*cos(lon1 - lon2))\n",
    "# print(distance)\n",
    "\n",
    "# R = 6373.0\n",
    "# # radius of the Earth\n",
    "\n",
    "\n",
    "# lat1 = math.radians(51.46894486)\n",
    "# # coordinates\n",
    "\n",
    "# lon1 = math.radians(5.473875387)\n",
    "# lat2 = math.radians(51.41620797)\n",
    "# lon2 = math.radians(5.452419358)\n",
    "\n",
    "# dlon = lon2 - lon1\n",
    "# # change in coordinates\n",
    "\n",
    "# dlat = lat2 - lat1\n",
    "\n",
    "# a = math.sin(dlat / 2)**2 + math.cos(lat1) * math.cos(lat2) * math.sin(dlon / 2)**2\n",
    "# # Haversine formula\n",
    "\n",
    "# c = 2 * math.atan2(math.sqrt(a), math.sqrt(1 - a))\n",
    "# distance = R * c\n",
    "\n",
    "# print(distance)\n",
    "\n",
    "# R = 6373.0\n",
    "\n",
    "# lat1 = radians(51.46894486)\n",
    "# lon1 = radians(5.473875387)\n",
    "# lat2 = radians(51.41620797)\n",
    "# lon2 = radians(5.452419358)\n",
    "\n",
    "# dlon = lon2 - lon1\n",
    "# dlat = lat2 - lat1\n",
    "\n",
    "# a = sin(dlat / 2)**2 + cos(lat1) * cos(lat2) * sin(dlon / 2)**2\n",
    "# c = 2 * atan2(sqrt(a), sqrt(1 - a))\n",
    "\n",
    "# distance = R * c\n",
    "\n",
    "# print(\"Result:\", distance)"
   ]
  },
  {
   "cell_type": "code",
   "execution_count": 229,
   "metadata": {},
   "outputs": [],
   "source": [
    "# new_data = parkingData[parkingData['Lon'] == '5.452419358']\n",
    "# new_data.head()"
   ]
  },
  {
   "cell_type": "code",
   "execution_count": 230,
   "metadata": {},
   "outputs": [],
   "source": [
    "# street = parkingData[]\n",
    "# fig, ax = plt.subplots()\n",
    "# ax = plt.scatter(parkingData['Straat'], parkingData['Type_en_merk'], color='red')\n",
    "# plt.xticks(rotation=45)\n",
    "# plt.show()"
   ]
  },
  {
   "cell_type": "code",
   "execution_count": 231,
   "metadata": {},
   "outputs": [],
   "source": [
    "# result = pd.concat(new_data, newTreesData)"
   ]
  },
  {
   "cell_type": "code",
   "execution_count": null,
   "metadata": {},
   "outputs": [],
   "source": []
  }
 ],
 "metadata": {
  "kernelspec": {
   "display_name": "Python 3",
   "language": "python",
   "name": "python3"
  },
  "language_info": {
   "codemirror_mode": {
    "name": "ipython",
    "version": 3
   },
   "file_extension": ".py",
   "mimetype": "text/x-python",
   "name": "python",
   "nbconvert_exporter": "python",
   "pygments_lexer": "ipython3",
   "version": "3.8.5"
  }
 },
 "nbformat": 4,
 "nbformat_minor": 1
}
