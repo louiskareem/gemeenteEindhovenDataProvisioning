{
 "cells": [
  {
   "cell_type": "markdown",
   "metadata": {},
   "source": [
    "# Import libraries"
   ]
  },
  {
   "cell_type": "code",
   "execution_count": null,
   "metadata": {},
   "outputs": [],
   "source": [
    "import pandas as pd\n",
    "import matplotlib.pyplot as plt\n",
    "from math import radians, sin, cos, acos, atan2, sqrt\n",
    "import math\n",
    "import numpy as np\n",
    "import seaborn as sns"
   ]
  },
  {
   "cell_type": "markdown",
   "metadata": {},
   "source": [
    "## Load datasets and remove spaces from column name after separating columns"
   ]
  },
  {
   "cell_type": "code",
   "execution_count": null,
   "metadata": {
    "pycharm": {
     "name": "#%%\n"
    }
   },
   "outputs": [],
   "source": [
    "parkeerplaatsen = pd.read_csv('parkeerplaatsen.csv', sep=';') # , keep_default_na=False, na_values=[\"\"]\n",
    "parkeerplaatsen.columns = parkeerplaatsen.columns.str.replace(' ', '')\n",
    "# avail_parkingData.set_index('Objectid')\n",
    "monumenten = pd.read_csv('monumenten.csv', sep=';')\n",
    "monumenten.columns = monumenten.columns.str.replace(' ', '')"
   ]
  },
  {
   "cell_type": "markdown",
   "metadata": {},
   "source": [
    "## Get the unique types of parking from the public parking dataframe"
   ]
  },
  {
   "cell_type": "code",
   "execution_count": null,
   "metadata": {},
   "outputs": [],
   "source": [
    "parkeerplaatsen.Type_en_merk.unique()"
   ]
  },
  {
   "cell_type": "markdown",
   "metadata": {},
   "source": [
    "## Get the shape and information of the public parking dataframe"
   ]
  },
  {
   "cell_type": "code",
   "execution_count": null,
   "metadata": {},
   "outputs": [],
   "source": [
    "'Parking data information', parkeerplaatsen.info() \n",
    "'Parking data shape:', parkeerplaatsen.shape"
   ]
  },
  {
   "cell_type": "markdown",
   "metadata": {},
   "source": [
    "## Get the shape and information of the monument dataframe"
   ]
  },
  {
   "cell_type": "code",
   "execution_count": null,
   "metadata": {},
   "outputs": [],
   "source": [
    "'Monument data information', monumenten.info() \n",
    "'Monument data shape:', monumenten.shape"
   ]
  },
  {
   "cell_type": "markdown",
   "metadata": {},
   "source": [
    "## Fill all NaN values in the monuments dataframe with 0 instead of removing NaN values.\n",
    "## If you remove the NaN values the dataframe will become way to small with less than 1000 rows"
   ]
  },
  {
   "cell_type": "code",
   "execution_count": null,
   "metadata": {},
   "outputs": [],
   "source": [
    "# monumenten = monumenten.dropna()\n",
    "monumenten = monumenten.fillna(0)\n",
    "\n",
    "# monumenten = monumenten.reset_index(drop=True)"
   ]
  },
  {
   "cell_type": "markdown",
   "metadata": {},
   "source": [
    "## Get first 5 rows of public parking dataframe"
   ]
  },
  {
   "cell_type": "code",
   "execution_count": null,
   "metadata": {},
   "outputs": [],
   "source": [
    "parkeerplaatsen.head()"
   ]
  },
  {
   "cell_type": "markdown",
   "metadata": {},
   "source": [
    "## Get first 5 rows of public parking dataframe"
   ]
  },
  {
   "cell_type": "code",
   "execution_count": null,
   "metadata": {},
   "outputs": [],
   "source": [
    "monumenten.head()"
   ]
  },
  {
   "cell_type": "markdown",
   "metadata": {},
   "source": [
    "## Get last 5 rows of public parking dataframe"
   ]
  },
  {
   "cell_type": "code",
   "execution_count": null,
   "metadata": {},
   "outputs": [],
   "source": [
    "parkeerplaatsen.tail() "
   ]
  },
  {
   "cell_type": "markdown",
   "metadata": {},
   "source": [
    "## Get last 5 rows of monument dataframe"
   ]
  },
  {
   "cell_type": "code",
   "execution_count": null,
   "metadata": {},
   "outputs": [],
   "source": [
    "monumenten.tail()"
   ]
  },
  {
   "cell_type": "markdown",
   "metadata": {},
   "source": [
    "## Extract the columns that is interesting and assign to dataframe"
   ]
  },
  {
   "cell_type": "code",
   "execution_count": null,
   "metadata": {},
   "outputs": [],
   "source": [
    "monumenten = monumenten.reindex(columns=['Categorie', 'Adres', 'Aanduiding', 'geo_point_2d'])"
   ]
  },
  {
   "cell_type": "markdown",
   "metadata": {},
   "source": [
    "## Get first 25 rows of new monument dataframe"
   ]
  },
  {
   "cell_type": "code",
   "execution_count": null,
   "metadata": {},
   "outputs": [],
   "source": [
    "monumenten.head(25)"
   ]
  },
  {
   "cell_type": "markdown",
   "metadata": {},
   "source": [
    "## Get the new shape and information of the monument dataframe"
   ]
  },
  {
   "cell_type": "code",
   "execution_count": null,
   "metadata": {},
   "outputs": [],
   "source": [
    "'Monument new data information', monumenten.info() \n",
    "'Monument new data shape:', monumenten.shape"
   ]
  },
  {
   "cell_type": "code",
   "execution_count": null,
   "metadata": {},
   "outputs": [],
   "source": [
    "# newOpenData = avail_parkingData.groupby(by=['Straat','Type_en_merk']).sum().groupby(level=[0]).cumsum()\n",
    "# avail_parkingData = avail_parkingData.loc[avail_parkingData['Type_en_merk'] == 'Parkeerplaats Electrisch opladen']\n",
    "\n",
    "# avail_parkingData.head()"
   ]
  },
  {
   "cell_type": "markdown",
   "metadata": {},
   "source": [
    "## Create method to calculate the distance between two geo location points\n",
    "## Data comes from the public parking & monument dataset"
   ]
  },
  {
   "cell_type": "code",
   "execution_count": null,
   "metadata": {},
   "outputs": [],
   "source": [
    "def calculateDistance(parkingGeoPoint, monumentGeoPoint):\n",
    "    pgp = parkingGeoPoint.partition(',')\n",
    "    mgp = monumentGeoPoint.partition(',')\n",
    "    \n",
    "    latOne = pgp[0]\n",
    "    longOne = pgp[2]\n",
    "    latTwo = mgp[0]\n",
    "    lonTwo = mgp[2]\n",
    "    \n",
    "    latOne = float(latOne)\n",
    "    longOne = float(longOne)\n",
    "    latTwo = float(latTwo)\n",
    "    lonTwo = float(lonTwo)\n",
    "    \n",
    "    earthRadius = 6373.0\n",
    "    # calculate distance based on internet exmple\n",
    "    latOne = radians(latOne) # first latitude value in parking dataset\n",
    "    longOne = radians(longOne) # first longitude value in first row of parking dataset\n",
    "    latTwo = radians(latTwo) # first latitude value in first row of trees dataset\n",
    "    lonTwo = radians(lonTwo) # first longitude value in first row of trees dataset\n",
    "    distance = earthRadius * acos(sin(latOne)*sin(latTwo) + cos(latOne)*cos(latTwo)*cos(longOne - lonTwo))\n",
    "    print(distance)\n",
    "\n",
    "#     dlon = lon2 - lon1\n",
    "#     # change in coordinates\n",
    "\n",
    "#     dlat = lat2 - lat1\n",
    "\n",
    "#     a = math.sin(dlat / 2)**2 + math.cos(lat1) * math.cos(lat2) * math.sin(dlon / 2)**2\n",
    "#     # Haversine formula\n",
    "\n",
    "#     c = 2 * math.atan2(math.sqrt(a), math.sqrt(1 - a))\n",
    "#     distance = R * c\n",
    "#     print(distance)"
   ]
  },
  {
   "cell_type": "markdown",
   "metadata": {},
   "source": [
    "## Test the method. Calculate distance between latitude and longitude from 5th row of the public parking & monument dataframe"
   ]
  },
  {
   "cell_type": "code",
   "execution_count": null,
   "metadata": {},
   "outputs": [],
   "source": [
    "calculateDistance(parkeerplaatsen['geo_point_2d'].iloc[5], monumenten['geo_point_2d'].iloc[5])"
   ]
  },
  {
   "cell_type": "markdown",
   "metadata": {},
   "source": [
    "## Iterate over datasets to calculate distance for every row in both datasets\n",
    "## then assign values to new column in a combined dataframe"
   ]
  },
  {
   "cell_type": "code",
   "execution_count": null,
   "metadata": {},
   "outputs": [],
   "source": [
    "\n",
    "for column in parkeerplaatsen['geo_point_2d']:\n",
    "    for c in monumenten['geo_point_2d']:\n",
    "#         calculateDistance(column, c)\n",
    "        print(column, c)"
   ]
  }
 ],
 "metadata": {
  "kernelspec": {
   "display_name": "Python 3",
   "language": "python",
   "name": "python3"
  },
  "language_info": {
   "codemirror_mode": {
    "name": "ipython",
    "version": 3
   },
   "file_extension": ".py",
   "mimetype": "text/x-python",
   "name": "python",
   "nbconvert_exporter": "python",
   "pygments_lexer": "ipython3",
   "version": "3.8.5"
  }
 },
 "nbformat": 4,
 "nbformat_minor": 1
}
